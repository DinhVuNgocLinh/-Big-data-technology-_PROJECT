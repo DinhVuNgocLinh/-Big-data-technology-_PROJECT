{
  "cells": [
    {
      "cell_type": "markdown",
      "metadata": {
        "id": "mYSvgggGJXvR"
      },
      "source": [
        "### SET UP"
      ]
    },
    {
      "cell_type": "code",
      "execution_count": null,
      "metadata": {
        "colab": {
          "base_uri": "https://localhost:8080/"
        },
        "id": "ALeoPWRZFNkh",
        "outputId": "cef07475-e649-4dd5-de58-d7bee76146b0"
      },
      "outputs": [
        {
          "output_type": "stream",
          "name": "stdout",
          "text": [
            "Spark version: 3.3.2\n"
          ]
        }
      ],
      "source": [
        "# Cài Java 8\n",
        "!apt-get install openjdk-8-jdk-headless -qq > /dev/null\n",
        "\n",
        "# Tải và giải nén Spark\n",
        "!wget -q https://archive.apache.org/dist/spark/spark-3.3.2/spark-3.3.2-bin-hadoop3.tgz\n",
        "!tar xf spark-3.3.2-bin-hadoop3.tgz\n",
        "\n",
        "# Cài findspark\n",
        "!pip install -q findspark\n",
        "\n",
        "# Thiết lập biến môi trường cho JAVA và SPARK\n",
        "import os\n",
        "os.environ[\"JAVA_HOME\"] = \"/usr/lib/jvm/java-8-openjdk-amd64\"\n",
        "os.environ[\"SPARK_HOME\"] = \"/content/spark-3.3.2-bin-hadoop3\"\n",
        "\n",
        "# Khởi tạo findspark\n",
        "import findspark\n",
        "findspark.init()\n",
        "\n",
        "# Import SparkSession và khởi tạo\n",
        "from pyspark.sql import SparkSession\n",
        "\n",
        "spark = SparkSession.builder \\\n",
        "    .appName(\"OnlineRestore\") \\\n",
        "    .master(\"local[*]\") \\\n",
        "    .getOrCreate()\n",
        "\n",
        "# Kiểm tra phiên bản Spark\n",
        "print(\"Spark version:\", spark.version)\n"
      ]
    },
    {
      "cell_type": "code",
      "execution_count": null,
      "metadata": {
        "id": "Cl8ZQKFHFPvC"
      },
      "outputs": [],
      "source": [
        "import os\n",
        "import findspark\n",
        "from pyspark.sql import SparkSession\n",
        "from pyspark.sql.functions import *\n",
        "from pyspark.sql.types import TimestampType\n",
        "from functools import reduce"
      ]
    },
    {
      "cell_type": "code",
      "execution_count": null,
      "metadata": {
        "colab": {
          "base_uri": "https://localhost:8080/",
          "height": 73
        },
        "id": "w8iXuZiRIm2u",
        "outputId": "d3a39b63-6560-4112-9eff-fe5d540e7797"
      },
      "outputs": [
        {
          "output_type": "display_data",
          "data": {
            "text/plain": [
              "<IPython.core.display.HTML object>"
            ],
            "text/html": [
              "\n",
              "     <input type=\"file\" id=\"files-034c52c5-5cf2-4bbd-801f-355217350d27\" name=\"files[]\" multiple disabled\n",
              "        style=\"border:none\" />\n",
              "     <output id=\"result-034c52c5-5cf2-4bbd-801f-355217350d27\">\n",
              "      Upload widget is only available when the cell has been executed in the\n",
              "      current browser session. Please rerun this cell to enable.\n",
              "      </output>\n",
              "      <script>// Copyright 2017 Google LLC\n",
              "//\n",
              "// Licensed under the Apache License, Version 2.0 (the \"License\");\n",
              "// you may not use this file except in compliance with the License.\n",
              "// You may obtain a copy of the License at\n",
              "//\n",
              "//      http://www.apache.org/licenses/LICENSE-2.0\n",
              "//\n",
              "// Unless required by applicable law or agreed to in writing, software\n",
              "// distributed under the License is distributed on an \"AS IS\" BASIS,\n",
              "// WITHOUT WARRANTIES OR CONDITIONS OF ANY KIND, either express or implied.\n",
              "// See the License for the specific language governing permissions and\n",
              "// limitations under the License.\n",
              "\n",
              "/**\n",
              " * @fileoverview Helpers for google.colab Python module.\n",
              " */\n",
              "(function(scope) {\n",
              "function span(text, styleAttributes = {}) {\n",
              "  const element = document.createElement('span');\n",
              "  element.textContent = text;\n",
              "  for (const key of Object.keys(styleAttributes)) {\n",
              "    element.style[key] = styleAttributes[key];\n",
              "  }\n",
              "  return element;\n",
              "}\n",
              "\n",
              "// Max number of bytes which will be uploaded at a time.\n",
              "const MAX_PAYLOAD_SIZE = 100 * 1024;\n",
              "\n",
              "function _uploadFiles(inputId, outputId) {\n",
              "  const steps = uploadFilesStep(inputId, outputId);\n",
              "  const outputElement = document.getElementById(outputId);\n",
              "  // Cache steps on the outputElement to make it available for the next call\n",
              "  // to uploadFilesContinue from Python.\n",
              "  outputElement.steps = steps;\n",
              "\n",
              "  return _uploadFilesContinue(outputId);\n",
              "}\n",
              "\n",
              "// This is roughly an async generator (not supported in the browser yet),\n",
              "// where there are multiple asynchronous steps and the Python side is going\n",
              "// to poll for completion of each step.\n",
              "// This uses a Promise to block the python side on completion of each step,\n",
              "// then passes the result of the previous step as the input to the next step.\n",
              "function _uploadFilesContinue(outputId) {\n",
              "  const outputElement = document.getElementById(outputId);\n",
              "  const steps = outputElement.steps;\n",
              "\n",
              "  const next = steps.next(outputElement.lastPromiseValue);\n",
              "  return Promise.resolve(next.value.promise).then((value) => {\n",
              "    // Cache the last promise value to make it available to the next\n",
              "    // step of the generator.\n",
              "    outputElement.lastPromiseValue = value;\n",
              "    return next.value.response;\n",
              "  });\n",
              "}\n",
              "\n",
              "/**\n",
              " * Generator function which is called between each async step of the upload\n",
              " * process.\n",
              " * @param {string} inputId Element ID of the input file picker element.\n",
              " * @param {string} outputId Element ID of the output display.\n",
              " * @return {!Iterable<!Object>} Iterable of next steps.\n",
              " */\n",
              "function* uploadFilesStep(inputId, outputId) {\n",
              "  const inputElement = document.getElementById(inputId);\n",
              "  inputElement.disabled = false;\n",
              "\n",
              "  const outputElement = document.getElementById(outputId);\n",
              "  outputElement.innerHTML = '';\n",
              "\n",
              "  const pickedPromise = new Promise((resolve) => {\n",
              "    inputElement.addEventListener('change', (e) => {\n",
              "      resolve(e.target.files);\n",
              "    });\n",
              "  });\n",
              "\n",
              "  const cancel = document.createElement('button');\n",
              "  inputElement.parentElement.appendChild(cancel);\n",
              "  cancel.textContent = 'Cancel upload';\n",
              "  const cancelPromise = new Promise((resolve) => {\n",
              "    cancel.onclick = () => {\n",
              "      resolve(null);\n",
              "    };\n",
              "  });\n",
              "\n",
              "  // Wait for the user to pick the files.\n",
              "  const files = yield {\n",
              "    promise: Promise.race([pickedPromise, cancelPromise]),\n",
              "    response: {\n",
              "      action: 'starting',\n",
              "    }\n",
              "  };\n",
              "\n",
              "  cancel.remove();\n",
              "\n",
              "  // Disable the input element since further picks are not allowed.\n",
              "  inputElement.disabled = true;\n",
              "\n",
              "  if (!files) {\n",
              "    return {\n",
              "      response: {\n",
              "        action: 'complete',\n",
              "      }\n",
              "    };\n",
              "  }\n",
              "\n",
              "  for (const file of files) {\n",
              "    const li = document.createElement('li');\n",
              "    li.append(span(file.name, {fontWeight: 'bold'}));\n",
              "    li.append(span(\n",
              "        `(${file.type || 'n/a'}) - ${file.size} bytes, ` +\n",
              "        `last modified: ${\n",
              "            file.lastModifiedDate ? file.lastModifiedDate.toLocaleDateString() :\n",
              "                                    'n/a'} - `));\n",
              "    const percent = span('0% done');\n",
              "    li.appendChild(percent);\n",
              "\n",
              "    outputElement.appendChild(li);\n",
              "\n",
              "    const fileDataPromise = new Promise((resolve) => {\n",
              "      const reader = new FileReader();\n",
              "      reader.onload = (e) => {\n",
              "        resolve(e.target.result);\n",
              "      };\n",
              "      reader.readAsArrayBuffer(file);\n",
              "    });\n",
              "    // Wait for the data to be ready.\n",
              "    let fileData = yield {\n",
              "      promise: fileDataPromise,\n",
              "      response: {\n",
              "        action: 'continue',\n",
              "      }\n",
              "    };\n",
              "\n",
              "    // Use a chunked sending to avoid message size limits. See b/62115660.\n",
              "    let position = 0;\n",
              "    do {\n",
              "      const length = Math.min(fileData.byteLength - position, MAX_PAYLOAD_SIZE);\n",
              "      const chunk = new Uint8Array(fileData, position, length);\n",
              "      position += length;\n",
              "\n",
              "      const base64 = btoa(String.fromCharCode.apply(null, chunk));\n",
              "      yield {\n",
              "        response: {\n",
              "          action: 'append',\n",
              "          file: file.name,\n",
              "          data: base64,\n",
              "        },\n",
              "      };\n",
              "\n",
              "      let percentDone = fileData.byteLength === 0 ?\n",
              "          100 :\n",
              "          Math.round((position / fileData.byteLength) * 100);\n",
              "      percent.textContent = `${percentDone}% done`;\n",
              "\n",
              "    } while (position < fileData.byteLength);\n",
              "  }\n",
              "\n",
              "  // All done.\n",
              "  yield {\n",
              "    response: {\n",
              "      action: 'complete',\n",
              "    }\n",
              "  };\n",
              "}\n",
              "\n",
              "scope.google = scope.google || {};\n",
              "scope.google.colab = scope.google.colab || {};\n",
              "scope.google.colab._files = {\n",
              "  _uploadFiles,\n",
              "  _uploadFilesContinue,\n",
              "};\n",
              "})(self);\n",
              "</script> "
            ]
          },
          "metadata": {}
        },
        {
          "output_type": "stream",
          "name": "stdout",
          "text": [
            "Saving OnlineRetail.csv to OnlineRetail (2).csv\n"
          ]
        }
      ],
      "source": [
        "from google.colab import files\n",
        "file= files.upload()"
      ]
    },
    {
      "cell_type": "markdown",
      "metadata": {
        "id": "7Y3lEXk0Jk9u"
      },
      "source": [
        "### 2. Load data"
      ]
    },
    {
      "cell_type": "code",
      "execution_count": null,
      "metadata": {
        "colab": {
          "base_uri": "https://localhost:8080/"
        },
        "id": "u9BvuMSxInVC",
        "outputId": "279dba7e-eb67-42dd-f135-95d0fd235ea7"
      },
      "outputs": [
        {
          "output_type": "stream",
          "name": "stdout",
          "text": [
            "+---------+---------+--------------------+--------+--------------+---------+----------+--------------+\n",
            "|InvoiceNo|StockCode|         Description|Quantity|   InvoiceDate|UnitPrice|CustomerID|       Country|\n",
            "+---------+---------+--------------------+--------+--------------+---------+----------+--------------+\n",
            "|   536365|   85123A|WHITE HANGING HEA...|       6|12/1/2010 8:26|     2.55|     17850|United Kingdom|\n",
            "|   536365|    71053| WHITE METAL LANTERN|       6|12/1/2010 8:26|     3.39|     17850|United Kingdom|\n",
            "|   536365|   84406B|CREAM CUPID HEART...|       8|12/1/2010 8:26|     2.75|     17850|United Kingdom|\n",
            "|   536365|   84029G|KNITTED UNION FLA...|       6|12/1/2010 8:26|     3.39|     17850|United Kingdom|\n",
            "|   536365|   84029E|RED WOOLLY HOTTIE...|       6|12/1/2010 8:26|     3.39|     17850|United Kingdom|\n",
            "+---------+---------+--------------------+--------+--------------+---------+----------+--------------+\n",
            "only showing top 5 rows\n",
            "\n"
          ]
        }
      ],
      "source": [
        "df = spark.read.csv(\"OnlineRetail.csv\", header=True, inferSchema=True)\n",
        "df.show(5)"
      ]
    },
    {
      "cell_type": "markdown",
      "metadata": {
        "id": "_EL7-glQJpY3"
      },
      "source": [
        "#### 3. Data Profiling, Anomaly Detection and Data Cleaning"
      ]
    },
    {
      "cell_type": "markdown",
      "metadata": {
        "id": "FlmLvJ0qJtno"
      },
      "source": [
        "##### 3.1 Check the number of colummns and rows"
      ]
    },
    {
      "cell_type": "code",
      "execution_count": null,
      "metadata": {
        "colab": {
          "base_uri": "https://localhost:8080/"
        },
        "id": "zQ7PeF1uJmuy",
        "outputId": "f2358999-5fbd-4aa1-b540-588cd0fc0d9e"
      },
      "outputs": [
        {
          "output_type": "stream",
          "name": "stdout",
          "text": [
            "Number of columns:  8\n",
            "Number of rows:  541909\n"
          ]
        }
      ],
      "source": [
        "# Check the number of columns and rows\n",
        "print(\"Number of columns: \", len(df.columns))\n",
        "print(\"Number of rows: \", df.count())"
      ]
    },
    {
      "cell_type": "markdown",
      "metadata": {
        "id": "GadI4AnRJ0Bb"
      },
      "source": [
        "##### 3.2 Abnormal 1: Check and correct Data Type"
      ]
    },
    {
      "cell_type": "code",
      "execution_count": null,
      "metadata": {
        "colab": {
          "base_uri": "https://localhost:8080/"
        },
        "id": "Owi46h8sJxn4",
        "outputId": "60102a8f-9f64-4ad3-da3f-00e7ec7295ea"
      },
      "outputs": [
        {
          "output_type": "stream",
          "name": "stdout",
          "text": [
            "root\n",
            " |-- InvoiceNo: string (nullable = true)\n",
            " |-- StockCode: string (nullable = true)\n",
            " |-- Description: string (nullable = true)\n",
            " |-- Quantity: integer (nullable = true)\n",
            " |-- InvoiceDate: string (nullable = true)\n",
            " |-- UnitPrice: double (nullable = true)\n",
            " |-- CustomerID: integer (nullable = true)\n",
            " |-- Country: string (nullable = true)\n",
            "\n"
          ]
        }
      ],
      "source": [
        "# Check schema\n",
        "df.printSchema()"
      ]
    },
    {
      "cell_type": "code",
      "execution_count": null,
      "metadata": {
        "colab": {
          "base_uri": "https://localhost:8080/"
        },
        "id": "Vucl6GnIJ4m9",
        "outputId": "88d9bc04-b45c-4cad-8f8a-2d052fe05ec3"
      },
      "outputs": [
        {
          "output_type": "stream",
          "name": "stdout",
          "text": [
            "root\n",
            " |-- InvoiceNo: string (nullable = true)\n",
            " |-- StockCode: string (nullable = true)\n",
            " |-- Description: string (nullable = true)\n",
            " |-- Quantity: integer (nullable = true)\n",
            " |-- InvoiceDate: timestamp (nullable = true)\n",
            " |-- UnitPrice: double (nullable = true)\n",
            " |-- CustomerID: integer (nullable = true)\n",
            " |-- Country: string (nullable = true)\n",
            "\n"
          ]
        }
      ],
      "source": [
        "# Convert datatype of InvoiceDate to timestamp\n",
        "df_cleaned = df.withColumn(\"InvoiceDate\", to_timestamp(\"InvoiceDate\", \"M/d/yyyy H:mm\"))\n",
        "\n",
        "# Re-check schema\n",
        "df_cleaned.printSchema()"
      ]
    },
    {
      "cell_type": "markdown",
      "metadata": {
        "id": "khSNTcaNJ8OU"
      },
      "source": [
        "### 3.3 Abnormal 2: Check and handle missing values"
      ]
    },
    {
      "cell_type": "code",
      "execution_count": null,
      "metadata": {
        "colab": {
          "base_uri": "https://localhost:8080/"
        },
        "id": "lq24r2dKJ6M9",
        "outputId": "f51663b5-a3fd-4c71-ae68-e45402087046"
      },
      "outputs": [
        {
          "output_type": "stream",
          "name": "stdout",
          "text": [
            "+---------+---------+-----------+--------+-----------+---------+----------+-------+\n",
            "|InvoiceNo|StockCode|Description|Quantity|InvoiceDate|UnitPrice|CustomerID|Country|\n",
            "+---------+---------+-----------+--------+-----------+---------+----------+-------+\n",
            "|        0|        0|       1454|       0|          0|        0|    135080|      0|\n",
            "+---------+---------+-----------+--------+-----------+---------+----------+-------+\n",
            "\n"
          ]
        }
      ],
      "source": [
        "# Check for missing values in original data\n",
        "missing_values = df_cleaned.select([\n",
        "    count(when(col(c).isNull(), c)).alias(c) for c in df_cleaned.columns\n",
        "])\n",
        "missing_values.show()\n"
      ]
    },
    {
      "cell_type": "markdown",
      "metadata": {
        "id": "ExF_M76TKBAw"
      },
      "source": [
        "- Description: 1,454 --> remove since it is hard to guess the product description\n",
        "- CustomerID: 135,080 --> might keep them, change null value into Unknown"
      ]
    },
    {
      "cell_type": "code",
      "execution_count": null,
      "metadata": {
        "id": "xhnOe1m1J9o2"
      },
      "outputs": [],
      "source": [
        "# Delete the null values in Description\n",
        "df_cleaned = df_cleaned.filter(df_cleaned.Description.isNotNull())\n",
        "\n",
        "# Change the value in CustomerID into \"Unknown\" for null values\n",
        "df_cleaned = df_cleaned.withColumn(\"CustomerID\", when(df_cleaned.CustomerID.isNull(), \"Unknown\").otherwise(df_cleaned.CustomerID))"
      ]
    },
    {
      "cell_type": "code",
      "execution_count": null,
      "metadata": {
        "colab": {
          "base_uri": "https://localhost:8080/"
        },
        "id": "zCXU-x8FKC_x",
        "outputId": "bf4d9f9c-2a75-4580-9852-f34cb4cbea4a"
      },
      "outputs": [
        {
          "output_type": "stream",
          "name": "stdout",
          "text": [
            "+---------+---------+-----------+--------+-----------+---------+----------+-------+\n",
            "|InvoiceNo|StockCode|Description|Quantity|InvoiceDate|UnitPrice|CustomerID|Country|\n",
            "+---------+---------+-----------+--------+-----------+---------+----------+-------+\n",
            "|        0|        0|          0|       0|          0|        0|         0|      0|\n",
            "+---------+---------+-----------+--------+-----------+---------+----------+-------+\n",
            "\n"
          ]
        }
      ],
      "source": [
        "# Re-check for missing values in the cleaned data\n",
        "missing_values = df_cleaned.select([\n",
        "    count(when(col(c).isNull(), c)).alias(c) for c in df_cleaned.columns\n",
        "])\n",
        "missing_values.show()"
      ]
    },
    {
      "cell_type": "markdown",
      "metadata": {
        "id": "KAInHGK5KM9u"
      },
      "source": [
        "### 3.4 Abnormal 3: Check and handle duplicate rows"
      ]
    },
    {
      "cell_type": "code",
      "execution_count": null,
      "metadata": {
        "colab": {
          "base_uri": "https://localhost:8080/"
        },
        "id": "fybTJUmuKK4q",
        "outputId": "bad48c45-3980-4aae-e891-2b1d987bfbdb"
      },
      "outputs": [
        {
          "output_type": "stream",
          "name": "stdout",
          "text": [
            "Number of duplicate rows:  5268\n"
          ]
        }
      ],
      "source": [
        "# Check the number of duplicate rows\n",
        "duplicate_count = df_cleaned.count() - df_cleaned.dropDuplicates().count()\n",
        "print(\"Number of duplicate rows: \", duplicate_count)"
      ]
    },
    {
      "cell_type": "code",
      "execution_count": null,
      "metadata": {
        "id": "zk2umVxSKP_o"
      },
      "outputs": [],
      "source": [
        "# Drop duplicate rows\n",
        "df_cleaned = df_cleaned.dropDuplicates()"
      ]
    },
    {
      "cell_type": "code",
      "execution_count": null,
      "metadata": {
        "colab": {
          "base_uri": "https://localhost:8080/"
        },
        "id": "cQdE0qcAKTDW",
        "outputId": "4b207564-32fb-42a8-d722-9d1d44d23eab"
      },
      "outputs": [
        {
          "output_type": "stream",
          "name": "stdout",
          "text": [
            "Number of duplicate rows:  0\n"
          ]
        }
      ],
      "source": [
        "# Re-check the number of duplicate rows\n",
        "duplicate_count = df_cleaned.count() - df_cleaned.dropDuplicates().count()\n",
        "print(\"Number of duplicate rows: \", duplicate_count)"
      ]
    },
    {
      "cell_type": "markdown",
      "metadata": {
        "id": "4YFEc1mBKYEX"
      },
      "source": [
        "### 3.5 Abnormal 4: Handle negative Quantity and UnitPrice"
      ]
    },
    {
      "cell_type": "markdown",
      "metadata": {
        "id": "ANVTWJwAKa9Y"
      },
      "source": [
        "### Check the number of cancelled order: The InvoiceNo starts with C (has negative Quantity)"
      ]
    },
    {
      "cell_type": "code",
      "execution_count": null,
      "metadata": {
        "colab": {
          "base_uri": "https://localhost:8080/"
        },
        "id": "IotfSy45KVSj",
        "outputId": "53bd2e57-de30-4656-8fec-f47f2d439ee0"
      },
      "outputs": [
        {
          "output_type": "stream",
          "name": "stdout",
          "text": [
            "Number of canceled orders:  9251\n",
            "+---------+---------+--------------------+--------+-------------------+---------+----------+--------------+\n",
            "|InvoiceNo|StockCode|         Description|Quantity|        InvoiceDate|UnitPrice|CustomerID|       Country|\n",
            "+---------+---------+--------------------+--------+-------------------+---------+----------+--------------+\n",
            "|  C536606|    20914|SET/5 RED RETROSP...|      -2|2010-12-02 09:10:00|     2.95|     14092|United Kingdom|\n",
            "|  C537998|    22727|ALARM CLOCK BAKEL...|      -4|2010-12-09 11:42:00|     3.75|     17411|United Kingdom|\n",
            "|  C538723|    22333|RETROSPOT PARTY B...|      -7|2010-12-14 11:12:00|     1.65|     12434|     Australia|\n",
            "|  C538763|    22107|  PIZZA PLATE IN BOX|      -8|2010-12-14 11:33:00|     3.75|     17722|United Kingdom|\n",
            "|  C539278|    22617|BAKING SET SPACEB...|      -6|2010-12-16 15:39:00|     4.95|     18269|United Kingdom|\n",
            "+---------+---------+--------------------+--------+-------------------+---------+----------+--------------+\n",
            "only showing top 5 rows\n",
            "\n"
          ]
        }
      ],
      "source": [
        "cancel = df_cleaned.filter(col(\"InvoiceNo\").startswith(\"C\"))\n",
        "print(\"Number of canceled orders: \", cancel.count())\n",
        "cancel.show(5)"
      ]
    },
    {
      "cell_type": "markdown",
      "metadata": {
        "id": "EayVD5IQKgzT"
      },
      "source": [
        "### Check for invalid values in Quantity and UnitPrice:\n",
        "\n",
        "- Quantity < 0\n",
        "- UnitPrice < 0"
      ]
    },
    {
      "cell_type": "code",
      "execution_count": null,
      "metadata": {
        "colab": {
          "base_uri": "https://localhost:8080/"
        },
        "id": "demX6SZiKcio",
        "outputId": "c9ab18da-e67a-4186-cd9e-fdc87145b901"
      },
      "outputs": [
        {
          "output_type": "stream",
          "name": "stdout",
          "text": [
            "Number of negative Quantity:  9725\n",
            "+---------+--------+\n",
            "|InvoiceNo|Quantity|\n",
            "+---------+--------+\n",
            "|  C536606|      -2|\n",
            "|  C537998|      -4|\n",
            "|  C538723|      -7|\n",
            "|  C538763|      -8|\n",
            "|  C539278|      -6|\n",
            "+---------+--------+\n",
            "only showing top 5 rows\n",
            "\n"
          ]
        }
      ],
      "source": [
        "# Quantity has negative value\n",
        "negative_Quantity = df_cleaned.filter(col(\"Quantity\") < 0).count()\n",
        "print(\"Number of negative Quantity: \", negative_Quantity)\n",
        "df_cleaned.filter(col(\"Quantity\") < 0).select(\"InvoiceNo\", \"Quantity\").show(5)"
      ]
    },
    {
      "cell_type": "code",
      "execution_count": null,
      "metadata": {
        "colab": {
          "base_uri": "https://localhost:8080/"
        },
        "id": "P-xSxpicKie3",
        "outputId": "3ee8b8f0-c26b-4ada-eced-429b6627f1e3"
      },
      "outputs": [
        {
          "output_type": "stream",
          "name": "stdout",
          "text": [
            "Number of negative UnitPrice:  2\n",
            "+---------+---------+\n",
            "|InvoiceNo|UnitPrice|\n",
            "+---------+---------+\n",
            "|  A563187|-11062.06|\n",
            "|  A563186|-11062.06|\n",
            "+---------+---------+\n",
            "\n"
          ]
        }
      ],
      "source": [
        "# UnitPrice has negative value\n",
        "negative_UnitPrice = df_cleaned.filter(col(\"UnitPrice\") < 0).count()\n",
        "print(\"Number of negative UnitPrice: \", negative_UnitPrice)\n",
        "df_cleaned.filter(col(\"UnitPrice\") < 0).select(\"InvoiceNo\", \"UnitPrice\").show(5)"
      ]
    },
    {
      "cell_type": "markdown",
      "metadata": {
        "id": "wh9KTQPTKm5y"
      },
      "source": [
        "- We can see that cancelled orders also have the negative Quantity.\n",
        "- The dataset contains 9,251 cancelled orders, while 9,725 orders have a negative quantity.\n",
        "- Therefore, in the Data Cleaning section, when we remove orders with negative quantities, we also remove the cancelled orders at the same time."
      ]
    },
    {
      "cell_type": "markdown",
      "metadata": {
        "id": "qWN9Fg2SKqV3"
      },
      "source": [
        "### Remove abnormal Quantity and UnitPrice"
      ]
    },
    {
      "cell_type": "code",
      "execution_count": null,
      "metadata": {
        "colab": {
          "base_uri": "https://localhost:8080/"
        },
        "id": "UyFW9hFfKkrZ",
        "outputId": "2f8c314b-abee-409d-94ea-ba8e3c67a4a9"
      },
      "outputs": [
        {
          "output_type": "stream",
          "name": "stdout",
          "text": [
            "Negative Quantity count: 0\n",
            "Negative UnitPrice count: 0\n",
            "Number of cancelled orders:  0\n"
          ]
        }
      ],
      "source": [
        "# Filter out negative Quantity and UnitPrice\n",
        "df_cleaned = df_cleaned.filter((col(\"Quantity\") > 0) & (col(\"UnitPrice\") > 0))\n",
        "\n",
        "# Check negative Quantity and UnitPrice again\n",
        "print(\"Negative Quantity count:\", df_cleaned.filter(col(\"Quantity\") < 0).count())\n",
        "print(\"Negative UnitPrice count:\", df_cleaned.filter(col(\"UnitPrice\") < 0).count())\n",
        "\n",
        "# Check number of cancelled orders again\n",
        "cancel = df_cleaned.filter(col(\"InvoiceNo\").startswith(\"C\"))\n",
        "print(\"Number of cancelled orders: \", cancel.count())"
      ]
    },
    {
      "cell_type": "markdown",
      "metadata": {
        "id": "V_YlZhtYKsy_"
      },
      "source": [
        "### 3.6 Abnormal 5: Identify abnormal StockCode-Description pairs that are not actual products\n",
        "- Check abnormal StockCode"
      ]
    },
    {
      "cell_type": "code",
      "execution_count": null,
      "metadata": {
        "colab": {
          "base_uri": "https://localhost:8080/"
        },
        "id": "Mc2ycMKOKrsQ",
        "outputId": "918944e3-81ce-4309-ecee-e65f040421e0"
      },
      "outputs": [
        {
          "output_type": "stream",
          "name": "stdout",
          "text": [
            "+------------+----------------------------------+\n",
            "|StockCode   |Description                       |\n",
            "+------------+----------------------------------+\n",
            "|POST        |POSTAGE                           |\n",
            "|DOT         |DOTCOM POSTAGE                    |\n",
            "|gift_0001_40|Dotcomgiftshop Gift Voucher �40.00|\n",
            "|C2          |CARRIAGE                          |\n",
            "|gift_0001_30|Dotcomgiftshop Gift Voucher �30.00|\n",
            "|BANK CHARGES|Bank Charges                      |\n",
            "|M           |Manual                            |\n",
            "|AMAZONFEE   |AMAZON FEE                        |\n",
            "|gift_0001_50|Dotcomgiftshop Gift Voucher �50.00|\n",
            "|gift_0001_20|Dotcomgiftshop Gift Voucher �20.00|\n",
            "|S           |SAMPLES                           |\n",
            "|gift_0001_10|Dotcomgiftshop Gift Voucher �10.00|\n",
            "|B           |Adjust bad debt                   |\n",
            "+------------+----------------------------------+\n",
            "\n"
          ]
        }
      ],
      "source": [
        "excluded_stockcodes = [\"POST\", \"DOT\", \"M\", \"C2\", \"BANK CHARGES\",\"S\", \"B\", \"AMAZONFEE\",\n",
        "                       \"gift_0001_10\", \"gift_0001_20\",\"gift_0001_30\",\"gift_0001_40\",\"gift_0001_50\"]\n",
        "\n",
        "# Identify rows with exclued StockCode\n",
        "df_excluded = df_cleaned.filter(col(\"StockCode\").isin(excluded_stockcodes))\n",
        "\n",
        "# Show distinct excluded StockCode - Description pairs\n",
        "df_excluded.select(\"StockCode\", \"Description\").distinct().show(truncate=False)"
      ]
    },
    {
      "cell_type": "markdown",
      "metadata": {
        "id": "vEQAN74LK1B3"
      },
      "source": [
        "### Handle abnormal StockCode and Description pairs that are not actual products"
      ]
    },
    {
      "cell_type": "code",
      "execution_count": null,
      "metadata": {
        "id": "-mSa8mItKxCL"
      },
      "outputs": [],
      "source": [
        "df_cleaned = df_cleaned.filter(~col(\"StockCode\").isin(excluded_stockcodes))"
      ]
    },
    {
      "cell_type": "code",
      "execution_count": null,
      "metadata": {
        "colab": {
          "base_uri": "https://localhost:8080/"
        },
        "id": "Z0VN-2uwK6Cy",
        "outputId": "92e6b85a-f7c8-4c59-9c09-3fe58512d657"
      },
      "outputs": [
        {
          "output_type": "stream",
          "name": "stdout",
          "text": [
            "+---------+-----------+\n",
            "|StockCode|Description|\n",
            "+---------+-----------+\n",
            "+---------+-----------+\n",
            "\n"
          ]
        }
      ],
      "source": [
        "# Re-check the abnormal stock code\n",
        "df_excluded = df_cleaned.filter(col(\"StockCode\").isin(excluded_stockcodes))\n",
        "df_excluded.select(\"StockCode\", \"Description\").distinct().show(truncate=False)"
      ]
    },
    {
      "cell_type": "markdown",
      "metadata": {
        "id": "cEQ0ZBSmMFYE"
      },
      "source": [
        "### 4. Data cleaning results"
      ]
    },
    {
      "cell_type": "code",
      "execution_count": null,
      "metadata": {
        "colab": {
          "base_uri": "https://localhost:8080/"
        },
        "id": "Uv0RCvhnMACj",
        "outputId": "2833eea8-f761-47b4-d18e-186102eab44e"
      },
      "outputs": [
        {
          "output_type": "stream",
          "name": "stdout",
          "text": [
            "Number of rows before cleaning: 541909\n"
          ]
        }
      ],
      "source": [
        "# The number of rows before cleaning\n",
        "rows_before_cleaning = df.count()\n",
        "print(f\"Number of rows before cleaning: {rows_before_cleaning}\")"
      ]
    },
    {
      "cell_type": "code",
      "execution_count": null,
      "metadata": {
        "colab": {
          "base_uri": "https://localhost:8080/"
        },
        "id": "TjaU1h7FMGy4",
        "outputId": "678ab56f-4c96-45f0-f16c-84dd8a10001a"
      },
      "outputs": [
        {
          "output_type": "stream",
          "name": "stdout",
          "text": [
            "Number of rows after cleaning: 522541\n"
          ]
        }
      ],
      "source": [
        "# Check the number of rows after cleaning\n",
        "rows_after_cleaning = df_cleaned.count()\n",
        "print(f\"Number of rows after cleaning: {rows_after_cleaning}\")"
      ]
    },
    {
      "cell_type": "markdown",
      "metadata": {
        "id": "bnLOOItvMKsc"
      },
      "source": [
        "### 5. Feature Engineering"
      ]
    },
    {
      "cell_type": "code",
      "execution_count": null,
      "metadata": {
        "colab": {
          "base_uri": "https://localhost:8080/"
        },
        "id": "Qyb7CjCOMI7C",
        "outputId": "bf63985a-ec12-443b-9eb6-8e02fd68fd56"
      },
      "outputs": [
        {
          "output_type": "stream",
          "name": "stdout",
          "text": [
            "root\n",
            " |-- InvoiceNo: string (nullable = true)\n",
            " |-- StockCode: string (nullable = true)\n",
            " |-- Description: string (nullable = true)\n",
            " |-- Quantity: integer (nullable = true)\n",
            " |-- InvoiceDate: date (nullable = true)\n",
            " |-- UnitPrice: double (nullable = true)\n",
            " |-- CustomerID: string (nullable = true)\n",
            " |-- Country: string (nullable = true)\n",
            "\n",
            "+---------+---------+--------------------+--------+-----------+---------+----------+--------------+\n",
            "|InvoiceNo|StockCode|         Description|Quantity|InvoiceDate|UnitPrice|CustomerID|       Country|\n",
            "+---------+---------+--------------------+--------+-----------+---------+----------+--------------+\n",
            "|   536415|    22951|60 CAKE CASES DOL...|       2| 2010-12-01|     0.55|     12838|United Kingdom|\n",
            "|   536488|    22909|SET OF 20 VINTAGE...|       1| 2010-12-01|     0.85|     17897|United Kingdom|\n",
            "|   536592|    22665|RECIPE BOX BLUE S...|       1| 2010-12-01|     5.91|   Unknown|United Kingdom|\n",
            "|   536600|   84029G|KNITTED UNION FLA...|       6| 2010-12-02|     3.39|     17850|United Kingdom|\n",
            "|   536612|   84029G|KNITTED UNION FLA...|       6| 2010-12-02|     3.39|     17850|United Kingdom|\n",
            "+---------+---------+--------------------+--------+-----------+---------+----------+--------------+\n",
            "only showing top 5 rows\n",
            "\n"
          ]
        }
      ],
      "source": [
        "# Convert InvoiceDate data type to DateType\n",
        "df_fe = df_cleaned.withColumn(\"InvoiceDate\", to_date(col(\"InvoiceDate\"), \"M/d/yyyy H:mm\"))\n",
        "df_fe.printSchema()\n",
        "df_fe.show(5)"
      ]
    },
    {
      "cell_type": "code",
      "execution_count": null,
      "metadata": {
        "colab": {
          "base_uri": "https://localhost:8080/"
        },
        "id": "-2xTDYsRML9q",
        "outputId": "eb3bfef1-1693-47af-931d-ceb09cd480f1"
      },
      "outputs": [
        {
          "output_type": "execute_result",
          "data": {
            "text/plain": [
              "datetime.date(2011, 12, 9)"
            ]
          },
          "metadata": {},
          "execution_count": 222
        }
      ],
      "source": [
        "# Get the max date of the dataset\n",
        "max_date = df_fe.agg(max(\"InvoiceDate\")).collect()[0][0]\n",
        "max_date"
      ]
    },
    {
      "cell_type": "code",
      "execution_count": null,
      "metadata": {
        "colab": {
          "base_uri": "https://localhost:8080/"
        },
        "id": "03HqvPVcMN8o",
        "outputId": "f04b6c44-1dc8-4ed8-e60d-9c0420806c7a"
      },
      "outputs": [
        {
          "output_type": "stream",
          "name": "stdout",
          "text": [
            "+----------+-------+\n",
            "|CustomerID|Recency|\n",
            "+----------+-------+\n",
            "|     16250|    261|\n",
            "|     15574|    177|\n",
            "|     15555|     12|\n",
            "|     15271|      7|\n",
            "|     17714|    320|\n",
            "+----------+-------+\n",
            "only showing top 5 rows\n",
            "\n"
          ]
        }
      ],
      "source": [
        "# Calculate recency\n",
        "recency_df = df_fe.groupBy(\"CustomerID\").agg(\n",
        "    datediff(lit(max_date), max(\"InvoiceDate\")).alias(\"Recency\")\n",
        ")\n",
        "recency_df.show(5)\n"
      ]
    },
    {
      "cell_type": "code",
      "execution_count": null,
      "metadata": {
        "colab": {
          "base_uri": "https://localhost:8080/"
        },
        "id": "N8GhNsL9Mfxp",
        "outputId": "02f6fd32-c26f-426d-94b6-798eeb0e9ab2"
      },
      "outputs": [
        {
          "output_type": "stream",
          "name": "stdout",
          "text": [
            "+----------+---------+\n",
            "|CustomerID|Frequency|\n",
            "+----------+---------+\n",
            "|     15555|       16|\n",
            "|     15574|        4|\n",
            "|     14157|        2|\n",
            "|     17686|        7|\n",
            "|     13610|        7|\n",
            "+----------+---------+\n",
            "only showing top 5 rows\n",
            "\n"
          ]
        }
      ],
      "source": [
        "# Calculate frequency (number of transactions per customer)\n",
        "frequency_df = df_fe.groupBy(\"CustomerID\").agg(\n",
        "    countDistinct(\"InvoiceNo\").alias(\"Frequency\")\n",
        ")\n",
        "frequency_df.show(5)"
      ]
    },
    {
      "cell_type": "code",
      "execution_count": null,
      "metadata": {
        "colab": {
          "base_uri": "https://localhost:8080/"
        },
        "id": "ef_SfT62MnQN",
        "outputId": "b3bdbc59-3d4b-4df8-ebef-80a75ad77616"
      },
      "outputs": [
        {
          "output_type": "stream",
          "name": "stdout",
          "text": [
            "+----------+--------+\n",
            "|CustomerID|Monetary|\n",
            "+----------+--------+\n",
            "|     13610| 1082.33|\n",
            "|     15555| 4791.87|\n",
            "|     15271| 2493.34|\n",
            "|     15574|  675.64|\n",
            "|     13282| 1132.14|\n",
            "+----------+--------+\n",
            "only showing top 5 rows\n",
            "\n"
          ]
        }
      ],
      "source": [
        "# Calculate Monetary (Total money spent by customer)\n",
        "monetary_df = df_fe.withColumn(\"TotalPrice\", col(\"Quantity\") * col(\"UnitPrice\")) \\\n",
        "    .groupBy(\"CustomerID\") \\\n",
        "    .agg(round(sum(\"TotalPrice\"), 3).alias(\"Monetary\"))\n",
        "monetary_df.show(5)"
      ]
    },
    {
      "cell_type": "code",
      "execution_count": null,
      "metadata": {
        "colab": {
          "base_uri": "https://localhost:8080/"
        },
        "id": "-7EQzGhKNasy",
        "outputId": "70d3cc41-3841-41e1-9e2a-ce0dad80c6c1"
      },
      "outputs": [
        {
          "output_type": "stream",
          "name": "stdout",
          "text": [
            "+----------+-------+---------+--------+\n",
            "|CustomerID|Recency|Frequency|Monetary|\n",
            "+----------+-------+---------+--------+\n",
            "|     15555|     12|       16| 4791.87|\n",
            "|     15574|    177|        4|  675.64|\n",
            "|     14157|     19|        2|  424.89|\n",
            "|     17686|      7|        7| 5739.46|\n",
            "|     13610|     12|        7| 1082.33|\n",
            "+----------+-------+---------+--------+\n",
            "only showing top 5 rows\n",
            "\n"
          ]
        }
      ],
      "source": [
        "# Join all RFM features\n",
        "dfs = [recency_df, frequency_df, monetary_df]\n",
        "rfm_df = reduce(lambda df1, df2: df1.join(df2, \"CustomerID\"), dfs)\n",
        "rfm_df.show(5)\n"
      ]
    },
    {
      "cell_type": "code",
      "execution_count": null,
      "metadata": {
        "colab": {
          "base_uri": "https://localhost:8080/"
        },
        "id": "0mAIiiZLNdPU",
        "outputId": "3e6a23a2-d9b5-4afb-bc2f-2ed2285dc64f"
      },
      "outputs": [
        {
          "output_type": "stream",
          "name": "stdout",
          "text": [
            "+-----------------+-----------------+-----------------+\n",
            "|     Mean_Recency|   Mean_Frequency|    Mean_Monetary|\n",
            "+-----------------+-----------------+-----------------+\n",
            "|92.20530565167243|4.561245674740484|2363.834342099192|\n",
            "+-----------------+-----------------+-----------------+\n",
            "\n"
          ]
        }
      ],
      "source": [
        "# Calculate the average of Recency, Frequency, and Monetary\n",
        "rfm_df.select(\n",
        "    mean(\"Recency\").alias(\"Mean_Recency\"),\n",
        "    mean(\"Frequency\").alias(\"Mean_Frequency\"),\n",
        "    mean(\"Monetary\").alias(\"Mean_Monetary\")\n",
        ").show()"
      ]
    },
    {
      "cell_type": "markdown",
      "metadata": {
        "id": "zk8Ik4QFOeGX"
      },
      "source": [
        "### Final Dataframe\n",
        "\n",
        "- If you want to work with timestamp (yyyy-M-d H:mm:ss) data, please use the code: [df_cleaned.join()]\n",
        "- If you want to work with date (only yyyy=M-d), please change the below code:[df_cleaned.join()] --> [df_fe.join()]"
      ]
    },
    {
      "cell_type": "code",
      "execution_count": null,
      "metadata": {
        "colab": {
          "base_uri": "https://localhost:8080/"
        },
        "id": "C8vs7B4wOQ_8",
        "outputId": "6b176d22-0ce0-4b72-8c40-9d6d7216aa52"
      },
      "outputs": [
        {
          "output_type": "stream",
          "name": "stdout",
          "text": [
            "+----------+-------+---------+--------+---------+---------+--------------------+--------+-------------------+---------+-------+\n",
            "|CustomerID|Recency|Frequency|Monetary|InvoiceNo|StockCode|         Description|Quantity|        InvoiceDate|UnitPrice|Country|\n",
            "+----------+-------+---------+--------+---------+---------+--------------------+--------+-------------------+---------+-------+\n",
            "|     12394|     63|        2| 1080.48|   552188|    22557|PLASTERS IN TIN V...|      12|2011-05-06 14:01:00|     1.65|Belgium|\n",
            "|     12394|     63|        2| 1080.48|   552188|    22551|PLASTERS IN TIN S...|      12|2011-05-06 14:01:00|     1.65|Belgium|\n",
            "|     12394|     63|        2| 1080.48|   552188|    21244|BLUE POLKADOT PLATE |       8|2011-05-06 14:01:00|     1.69|Belgium|\n",
            "|     12394|     63|        2| 1080.48|   552188|    23256|CHILDRENS CUTLERY...|       8|2011-05-06 14:01:00|     4.15|Belgium|\n",
            "|     12394|     63|        2| 1080.48|   552188|    21245|GREEN POLKADOT PL...|       8|2011-05-06 14:01:00|     1.69|Belgium|\n",
            "|     12394|     63|        2| 1080.48|   552188|    20675|  BLUE POLKADOT BOWL|       8|2011-05-06 14:01:00|     1.25|Belgium|\n",
            "|     12394|     63|        2| 1080.48|   552188|    22555|PLASTERS IN TIN S...|      12|2011-05-06 14:01:00|     1.65|Belgium|\n",
            "|     12394|     63|        2| 1080.48|   552188|    21238|   RED RETROSPOT CUP|       8|2011-05-06 14:01:00|     0.85|Belgium|\n",
            "|     12394|     63|        2| 1080.48|   552188|    21452| TOADSTOOL MONEY BOX|       6|2011-05-06 14:01:00|     2.95|Belgium|\n",
            "|     12394|     63|        2| 1080.48|   552188|    20674| GREEN POLKADOT BOWL|       8|2011-05-06 14:01:00|     1.25|Belgium|\n",
            "|     12394|     63|        2| 1080.48|   552188|    22634|CHILDS BREAKFAST ...|       2|2011-05-06 14:01:00|     9.95|Belgium|\n",
            "|     12394|     63|        2| 1080.48|   569997|    23295|SET OF 12 MINI LO...|     256|2011-10-07 08:08:00|     0.72|Denmark|\n",
            "|     12394|     63|        2| 1080.48|   569997|    37495|FAIRY CAKE BIRTHD...|      36|2011-10-07 08:08:00|     2.95|Denmark|\n",
            "|     12394|     63|        2| 1080.48|   552188|    22630|DOLLY GIRL LUNCH BOX|      12|2011-05-06 14:01:00|     1.95|Belgium|\n",
            "|     12394|     63|        2| 1080.48|   552188|    21242|RED RETROSPOT PLATE |      16|2011-05-06 14:01:00|     1.69|Belgium|\n",
            "|     12394|     63|        2| 1080.48|   552188|    21240|   BLUE POLKADOT CUP|       8|2011-05-06 14:01:00|     0.85|Belgium|\n",
            "|     12394|     63|        2| 1080.48|   552188|    23254|CHILDRENS CUTLERY...|       4|2011-05-06 14:01:00|     4.15|Belgium|\n",
            "|     12394|     63|        2| 1080.48|   552188|    23255|CHILDRENS CUTLERY...|       4|2011-05-06 14:01:00|     4.15|Belgium|\n",
            "|     12394|     63|        2| 1080.48|   552188|    20676|  RED RETROSPOT BOWL|       8|2011-05-06 14:01:00|     1.25|Belgium|\n",
            "|     12394|     63|        2| 1080.48|   552188|    22629| SPACEBOY LUNCH BOX |      12|2011-05-06 14:01:00|     1.95|Belgium|\n",
            "+----------+-------+---------+--------+---------+---------+--------------------+--------+-------------------+---------+-------+\n",
            "only showing top 20 rows\n",
            "\n"
          ]
        }
      ],
      "source": [
        "# Join churn label into transaction-level cleaned data\n",
        "final_df = rfm_df.join(df_cleaned, on=\"CustomerID\", how=\"left\")\n",
        "final_df.show()"
      ]
    },
    {
      "cell_type": "markdown",
      "metadata": {
        "id": "cmY6eKS5Ohkw"
      },
      "source": [
        "- For further steps after my parts, I got a few instruction for each role of the type of dataframe\n",
        "\n",
        "- df: original raw dataframe\n",
        "- df_cleaned: dataframe after data cleaning in part 3\n",
        "- df_fe : dataframe where the InvoiceDate converted into Date formula.\n",
        "- rfm_df : The RFM dataframe with columns [CustomerID, Recency, Frequency, Monetary, Churn]\n",
        "- final_df (optional) : use this if you prefer working directly with the cleaned transactional data (df_cleaned) rather than the aggregated RFM data."
      ]
    },
    {
      "cell_type": "markdown",
      "metadata": {
        "id": "KU-9xwltSCV2"
      },
      "source": [
        "\n",
        "\n",
        "---\n",
        "\n",
        "\n",
        "\n",
        "---\n",
        "\n",
        "\n",
        "\n",
        "---\n",
        "\n",
        "\n",
        "\n",
        "---\n",
        "\n",
        "\n",
        "\n",
        "---\n",
        "\n"
      ]
    },
    {
      "cell_type": "code",
      "source": [
        "from pyspark.ml.feature import StandardScaler\n",
        "from pyspark.ml.linalg import Vectors\n",
        "from pyspark.ml.feature import VectorAssembler\n",
        "from pyspark.ml.clustering import KMeans\n"
      ],
      "metadata": {
        "id": "_OqvN_mYn8zc"
      },
      "execution_count": null,
      "outputs": []
    },
    {
      "cell_type": "code",
      "source": [
        "rfm = final_df.select(\"CustomerID\",\"Recency\", \"Frequency\", \"Monetary\")\n",
        "rfm.show()"
      ],
      "metadata": {
        "colab": {
          "base_uri": "https://localhost:8080/"
        },
        "id": "bH_rkFA5vYiR",
        "outputId": "5c620990-59c2-4adf-ba66-95273ffdba40"
      },
      "execution_count": null,
      "outputs": [
        {
          "output_type": "stream",
          "name": "stdout",
          "text": [
            "+----------+-------+---------+--------+\n",
            "|CustomerID|Recency|Frequency|Monetary|\n",
            "+----------+-------+---------+--------+\n",
            "|     15555|     12|       16| 4791.87|\n",
            "|     15555|     12|       16| 4791.87|\n",
            "|     15555|     12|       16| 4791.87|\n",
            "|     15555|     12|       16| 4791.87|\n",
            "|     15555|     12|       16| 4791.87|\n",
            "|     15555|     12|       16| 4791.87|\n",
            "|     15555|     12|       16| 4791.87|\n",
            "|     15555|     12|       16| 4791.87|\n",
            "|     15555|     12|       16| 4791.87|\n",
            "|     15555|     12|       16| 4791.87|\n",
            "|     15555|     12|       16| 4791.87|\n",
            "|     15555|     12|       16| 4791.87|\n",
            "|     15555|     12|       16| 4791.87|\n",
            "|     15555|     12|       16| 4791.87|\n",
            "|     15555|     12|       16| 4791.87|\n",
            "|     15555|     12|       16| 4791.87|\n",
            "|     15555|     12|       16| 4791.87|\n",
            "|     15555|     12|       16| 4791.87|\n",
            "|     15555|     12|       16| 4791.87|\n",
            "|     15555|     12|       16| 4791.87|\n",
            "+----------+-------+---------+--------+\n",
            "only showing top 20 rows\n",
            "\n"
          ]
        }
      ]
    },
    {
      "cell_type": "code",
      "source": [
        "print(rfm.count())"
      ],
      "metadata": {
        "colab": {
          "base_uri": "https://localhost:8080/"
        },
        "id": "pmUISiF9XugD",
        "outputId": "8dc72673-5bc1-4c6e-a3fa-e4e2b38266ff"
      },
      "execution_count": null,
      "outputs": [
        {
          "output_type": "stream",
          "name": "stdout",
          "text": [
            "522541\n"
          ]
        }
      ]
    },
    {
      "cell_type": "markdown",
      "source": [
        "# Normalize RFM"
      ],
      "metadata": {
        "id": "LUQRjqNDdj13"
      }
    },
    {
      "cell_type": "code",
      "source": [
        "# Assemble\n",
        "assembler = VectorAssembler(inputCols=[\"Recency\", \"Frequency\", \"Monetary\"], outputCol=\"features\")\n",
        "final_vector = assembler.transform(rfm)\n",
        "\n",
        "# Scale (fit only on train)\n",
        "scaler = StandardScaler(inputCol=\"features\", outputCol=\"scaled_features\", withStd=True, withMean=False)\n",
        "scaler_model = scaler.fit(final_vector)\n",
        "final_scaled = scaler_model.transform(final_vector)\n"
      ],
      "metadata": {
        "id": "WkejqJ81n5hu"
      },
      "execution_count": null,
      "outputs": []
    },
    {
      "cell_type": "markdown",
      "source": [
        "#Clustering\n",
        "K-Means"
      ],
      "metadata": {
        "id": "eMaEasjApYsu"
      }
    },
    {
      "cell_type": "markdown",
      "source": [
        "### Compare KMeans with Different k Values"
      ],
      "metadata": {
        "id": "t-6XjFgVX87_"
      }
    },
    {
      "cell_type": "code",
      "source": [
        "from pyspark.ml.clustering import KMeans\n",
        "from pyspark.ml.evaluation import ClusteringEvaluator\n",
        "\n",
        "for k in range(2, 10):\n",
        "    kmeans = KMeans(featuresCol=\"scaled_features\", predictionCol=\"cluster\", k=k, seed=1)\n",
        "    model = kmeans.fit(final_scaled)\n",
        "    transformed = model.transform(final_scaled)\n",
        "\n",
        "    evaluator = ClusteringEvaluator(featuresCol=\"scaled_features\",\n",
        "                                    predictionCol=\"cluster\", metricName=\"silhouette\")\n",
        "    silhouette = evaluator.evaluate(transformed)\n",
        "    print(f\"With k= {k} → Silhouette Score = {silhouette}\")\n"
      ],
      "metadata": {
        "id": "qsj0nBNAQGcx",
        "colab": {
          "base_uri": "https://localhost:8080/"
        },
        "outputId": "54df50c8-1163-4b18-bc5a-da1e543051c1"
      },
      "execution_count": null,
      "outputs": [
        {
          "output_type": "stream",
          "name": "stdout",
          "text": [
            "With k= 2 → Silhouette Score = 0.8775858239212301\n",
            "With k= 3 → Silhouette Score = 0.9417731726244167\n",
            "With k= 4 → Silhouette Score = 0.8957739774828374\n",
            "With k= 5 → Silhouette Score = 0.876522439834906\n",
            "With k= 6 → Silhouette Score = 0.8358600021989957\n",
            "With k= 7 → Silhouette Score = 0.7935364669055627\n",
            "With k= 8 → Silhouette Score = 0.7884081866303813\n",
            "With k= 9 → Silhouette Score = 0.7883784193227261\n"
          ]
        }
      ]
    },
    {
      "cell_type": "markdown",
      "source": [
        "The highest Silhouette Score is  0.9417731726244167. So, the best k values is: k = 3"
      ],
      "metadata": {
        "id": "lopVoBCmR1XX"
      }
    },
    {
      "cell_type": "markdown",
      "source": [
        "# Evaluate Clustering\n"
      ],
      "metadata": {
        "id": "yz8A2-XvQnNT"
      }
    },
    {
      "cell_type": "code",
      "source": [
        "k_best = 3\n",
        "kmeans = KMeans(featuresCol=\"scaled_features\",\n",
        "                predictionCol=\"cluster\",k= k_best, seed =1)\n",
        "km_model =kmeans.fit(final_scaled)\n",
        "final_pred = km_model.transform(final_scaled)\n",
        "final_pred.show()"
      ],
      "metadata": {
        "colab": {
          "base_uri": "https://localhost:8080/"
        },
        "id": "vQxmtAVNqZBv",
        "outputId": "03a26225-4819-4be6-8268-c52812defff7"
      },
      "execution_count": null,
      "outputs": [
        {
          "output_type": "stream",
          "name": "stdout",
          "text": [
            "+----------+-------+---------+--------+-------------------+--------------------+-------+\n",
            "|CustomerID|Recency|Frequency|Monetary|           features|     scaled_features|cluster|\n",
            "+----------+-------+---------+--------+-------------------+--------------------+-------+\n",
            "|     15555|     12|       16| 4791.87|[12.0,16.0,4791.87]|[0.20164798681824...|      0|\n",
            "|     15555|     12|       16| 4791.87|[12.0,16.0,4791.87]|[0.20164798681824...|      0|\n",
            "|     15555|     12|       16| 4791.87|[12.0,16.0,4791.87]|[0.20164798681824...|      0|\n",
            "|     15555|     12|       16| 4791.87|[12.0,16.0,4791.87]|[0.20164798681824...|      0|\n",
            "|     15555|     12|       16| 4791.87|[12.0,16.0,4791.87]|[0.20164798681824...|      0|\n",
            "|     15555|     12|       16| 4791.87|[12.0,16.0,4791.87]|[0.20164798681824...|      0|\n",
            "|     15555|     12|       16| 4791.87|[12.0,16.0,4791.87]|[0.20164798681824...|      0|\n",
            "|     15555|     12|       16| 4791.87|[12.0,16.0,4791.87]|[0.20164798681824...|      0|\n",
            "|     15555|     12|       16| 4791.87|[12.0,16.0,4791.87]|[0.20164798681824...|      0|\n",
            "|     15555|     12|       16| 4791.87|[12.0,16.0,4791.87]|[0.20164798681824...|      0|\n",
            "|     15555|     12|       16| 4791.87|[12.0,16.0,4791.87]|[0.20164798681824...|      0|\n",
            "|     15555|     12|       16| 4791.87|[12.0,16.0,4791.87]|[0.20164798681824...|      0|\n",
            "|     15555|     12|       16| 4791.87|[12.0,16.0,4791.87]|[0.20164798681824...|      0|\n",
            "|     15555|     12|       16| 4791.87|[12.0,16.0,4791.87]|[0.20164798681824...|      0|\n",
            "|     15555|     12|       16| 4791.87|[12.0,16.0,4791.87]|[0.20164798681824...|      0|\n",
            "|     15555|     12|       16| 4791.87|[12.0,16.0,4791.87]|[0.20164798681824...|      0|\n",
            "|     15555|     12|       16| 4791.87|[12.0,16.0,4791.87]|[0.20164798681824...|      0|\n",
            "|     15555|     12|       16| 4791.87|[12.0,16.0,4791.87]|[0.20164798681824...|      0|\n",
            "|     15555|     12|       16| 4791.87|[12.0,16.0,4791.87]|[0.20164798681824...|      0|\n",
            "|     15555|     12|       16| 4791.87|[12.0,16.0,4791.87]|[0.20164798681824...|      0|\n",
            "+----------+-------+---------+--------+-------------------+--------------------+-------+\n",
            "only showing top 20 rows\n",
            "\n"
          ]
        }
      ]
    },
    {
      "cell_type": "code",
      "source": [
        "cluster_counts = final_pred.groupBy(\"cluster\").count().orderBy(\"cluster\")\n",
        "cluster_counts.show()\n"
      ],
      "metadata": {
        "colab": {
          "base_uri": "https://localhost:8080/"
        },
        "id": "lC5sm0aydFJP",
        "outputId": "86f5c56f-f2a8-4faa-f074-026b9daa717a"
      },
      "execution_count": null,
      "outputs": [
        {
          "output_type": "stream",
          "name": "stdout",
          "text": [
            "+-------+------+\n",
            "|cluster| count|\n",
            "+-------+------+\n",
            "|      0|353667|\n",
            "|      1|131388|\n",
            "|      2| 37486|\n",
            "+-------+------+\n",
            "\n"
          ]
        }
      ]
    },
    {
      "cell_type": "code",
      "source": [
        "cluster_counts_pd = cluster_counts.toPandas()\n"
      ],
      "metadata": {
        "id": "arxDHbmLxtfa"
      },
      "execution_count": null,
      "outputs": []
    },
    {
      "cell_type": "code",
      "source": [
        "import matplotlib.pyplot as plt\n",
        "\n",
        "# Bar chart of cluster distribution\n",
        "plt.figure(figsize=(8, 6))\n",
        "plt.bar(cluster_counts_pd['cluster'], cluster_counts_pd['count'], color='darkblue')\n",
        "plt.xlabel('Cluster')\n",
        "plt.ylabel('Number of Customers')\n",
        "plt.title('Distribution of Customers in Each Cluster')\n",
        "plt.xticks(cluster_counts_pd['cluster'])\n",
        "plt.grid(axis='y', linestyle='--', alpha=0.7)\n",
        "plt.tight_layout()\n",
        "plt.show()\n"
      ],
      "metadata": {
        "colab": {
          "base_uri": "https://localhost:8080/",
          "height": 607
        },
        "id": "WVbIvCdzxjCz",
        "outputId": "7dd0512e-44bb-467b-b150-835a9f1a9a8a"
      },
      "execution_count": null,
      "outputs": [
        {
          "output_type": "display_data",
          "data": {
            "text/plain": [
              "<Figure size 800x600 with 1 Axes>"
            ],
            "image/png": "[encoded data removed]"
          },
          "metadata": {}
        }
      ]
    },
    {
      "cell_type": "markdown",
      "source": [
        "# Statistics for each cluster"
      ],
      "metadata": {
        "id": "gFqWqQh5V65W"
      }
    },
    {
      "cell_type": "code",
      "source": [
        "from pyspark.sql import functions as F\n",
        "\n",
        "features =[\"Recency\", \"Frequency\", \"Monetary\"]\n",
        "agg_exprs = []\n",
        "for col in features:\n",
        "    agg_exprs.extend([\n",
        "        F.min(col).alias(f\"{col}_min\"),\n",
        "        F.avg(col).alias(f\"{col}_mean\"),\n",
        "        F.expr(f'percentile({col}, 0.5)').alias(f\"{col}_median\"),\n",
        "        F.max(col).alias(f\"{col}_max\")\n",
        "    ])\n",
        "\n",
        "summary_df = final_pred.groupBy(\"cluster\").agg(*agg_exprs)\n",
        "summary_df.orderBy(\"cluster\").show(truncate=False)"
      ],
      "metadata": {
        "id": "RXutn83quCp_",
        "colab": {
          "base_uri": "https://localhost:8080/"
        },
        "outputId": "72d3ac29-eb8e-4486-8d9b-fa4f54f67a62"
      },
      "execution_count": null,
      "outputs": [
        {
          "output_type": "stream",
          "name": "stdout",
          "text": [
            "+-------+-----------+------------------+--------------+-----------+-------------+------------------+----------------+-------------+------------+------------------+---------------+------------+\n",
            "|cluster|Recency_min|Recency_mean      |Recency_median|Recency_max|Frequency_min|Frequency_mean    |Frequency_median|Frequency_max|Monetary_min|Monetary_mean     |Monetary_median|Monetary_max|\n",
            "+-------+-----------+------------------+--------------+-----------+-------------+------------------+----------------+-------------+------------+------------------+---------------+------------+\n",
            "|0      |0          |22.263114737874893|12.0          |117        |1            |20.297002547594207|8.0             |206          |5.9         |12276.931437796062|2993.1         |279138.02   |\n",
            "|1      |0          |0.0               |0.0           |0          |1371         |1371.0            |1371.0          |1371         |1509994.23  |1509994.2300024081|1509994.23     |1509994.23  |\n",
            "|2      |119        |215.30688790481778|196.0         |373        |1            |2.728351918049405 |2.0             |34           |3.75        |1018.380710585278 |610.01         |77183.6     |\n",
            "+-------+-----------+------------------+--------------+-----------+-------------+------------------+----------------+-------------+------------+------------------+---------------+------------+\n",
            "\n"
          ]
        }
      ]
    },
    {
      "cell_type": "code",
      "source": [
        "centers = km_model.clusterCenters()\n",
        "print(\"Cluster Centers:\")\n",
        "for i, c in enumerate(centers):\n",
        "    print(f\"Cluster {i}: {c}\")\n"
      ],
      "metadata": {
        "id": "JYWhW1oYV5IV",
        "colab": {
          "base_uri": "https://localhost:8080/"
        },
        "outputId": "810c55f3-b882-491f-cc4f-d876eb3f07e4"
      },
      "execution_count": null,
      "outputs": [
        {
          "output_type": "stream",
          "name": "stdout",
          "text": [
            "Cluster Centers:\n",
            "Cluster 0: [0.37410936 0.03454308 0.01886497]\n",
            "Cluster 1: [0.         2.33327836 2.32028621]\n",
            "Cluster 2: [3.61801671e+00 4.64332930e-03 1.56486341e-03]\n"
          ]
        }
      ]
    },
    {
      "cell_type": "code",
      "source": [
        "import pandas as pd\n",
        "\n",
        "stats = summary_df.collect()\n",
        "centers = km_model.clusterCenters()\n",
        "\n",
        "all_cluster_tables = []\n",
        "\n",
        "for row in stats:\n",
        "    cluster_id = row['cluster']\n",
        "\n",
        "    cluster_data = {\n",
        "        \"Metric\": [\"Recency\", \"Frequency\", \"Monetary\"],\n",
        "        \"Min\": [row['Recency_min'], row['Frequency_min'], row['Monetary_min']],\n",
        "        \"Mean\": [row['Recency_mean'], row['Frequency_mean'], row['Monetary_mean']],\n",
        "        \"Median\": [row['Recency_median'], row['Frequency_median'], row['Monetary_median']],\n",
        "        \"Max\": [row['Recency_max'], row['Frequency_max'], row['Monetary_max']],\n",
        "\n",
        "        \"Cluster Center\": centers[cluster_id]  # array [r, f, m]\n",
        "    }\n",
        "\n",
        "    cluster_data[\"Cluster Center\"] = list(centers[cluster_id])\n",
        "\n",
        "    df = pd.DataFrame(cluster_data)\n",
        "    df.insert(0, \"Cluster\", cluster_id)\n",
        "    all_cluster_tables.append(df)\n"
      ],
      "metadata": {
        "id": "YRKNw1_pO0u5"
      },
      "execution_count": null,
      "outputs": []
    },
    {
      "cell_type": "code",
      "source": [
        "for cluster_df in all_cluster_tables:\n",
        "    cluster_id = cluster_df['Cluster'].iloc[0]\n",
        "    print(f\"\\n====== Cluster {cluster_id} ===========================================================\")\n",
        "    print(cluster_df.to_string(index=False))\n"
      ],
      "metadata": {
        "colab": {
          "base_uri": "https://localhost:8080/"
        },
        "id": "LT5hIJoLQP5_",
        "outputId": "0ddedea9-cbc9-483b-fe72-381238014d19"
      },
      "execution_count": null,
      "outputs": [
        {
          "output_type": "stream",
          "name": "stdout",
          "text": [
            "\n",
            "====== Cluster 1 ===========================================================\n",
            " Cluster    Metric        Min         Mean     Median        Max  Cluster Center\n",
            "       1   Recency       0.00 0.000000e+00       0.00       0.00        0.000000\n",
            "       1 Frequency    1371.00 1.371000e+03    1371.00    1371.00        2.333278\n",
            "       1  Monetary 1509994.23 1.509994e+06 1509994.23 1509994.23        2.320286\n",
            "\n",
            "====== Cluster 2 ===========================================================\n",
            " Cluster    Metric    Min        Mean  Median     Max  Cluster Center\n",
            "       2   Recency 119.00  215.306888  196.00   373.0        3.618017\n",
            "       2 Frequency   1.00    2.728352    2.00    34.0        0.004643\n",
            "       2  Monetary   3.75 1018.380711  610.01 77183.6        0.001565\n",
            "\n",
            "====== Cluster 0 ===========================================================\n",
            " Cluster    Metric  Min         Mean  Median       Max  Cluster Center\n",
            "       0   Recency  0.0    22.263115    12.0    117.00        0.374109\n",
            "       0 Frequency  1.0    20.297003     8.0    206.00        0.034543\n",
            "       0  Monetary  5.9 12276.931438  2993.1 279138.02        0.018865\n"
          ]
        }
      ]
    },
    {
      "cell_type": "markdown",
      "source": [
        "**Cluster 0:**\n",
        "\n",
        "| Metric    | Min | Mean      | Median   | Max        | Center (Scaled) |\n",
        "| --------- | --- | --------- | -------- | ---------- | --------------- |\n",
        "| Recency   | 0   | 22.33     | 12.00    | 119.00     | 0.38            |\n",
        "| Frequency | 1   | 20.31     | 8.00     | 206.00     | 0.03            |\n",
        "| Monetary  | 30  | 12,288.85 | 2,984.49 | 279,138.02 | 0.02            |\n",
        "\n",
        " - **Low Recency**→ These customers have purchased very recently, with a median of **12 day**s ago, and average of around **23 days**  \n",
        " - **Medium Frequency**→ Average around **20 purchases**, and some up to **206**.\n",
        " - **Monetary →** their spending is moderate, with an average monetary value of about **12k** and a median of around **3k** and up to **279k**\n",
        "\n",
        " → Cluster 0 : *Active Medium-Value Customers* - These are your regular customers with decent purchase frequency and moderate spending.\n",
        "\n",
        "\n",
        "**Cluster 1:**\n",
        "\n",
        "| Metric    | Min    | Mean    | Median  | Max     | Center (Scaled) |\n",
        "| --------- | ------ | ------- | ------- | ------- | --------------- |\n",
        "| Recency   | 0.00   | 0.00    | 0.00    | 0.00    | 0.00            |\n",
        "| Frequency | 1371.0 | 1371.00 | 1371.00 | 1371.00 | 2.33            |\n",
        "| Monetary  | 1.5M   | 1.5M    | 1.5M    | 1.5M    | 2.32            |\n",
        "\n",
        "- **Recency = 0** → Purchased today (most recent customer).\n",
        "\n",
        "- **Extremely High Frequency** → 1371 purchases.\n",
        "\n",
        "- **Extremely High Monetary** → Spent over 1.5 million.\n",
        "\n",
        "→ Cluster 1: *Ultra VIP Customer* - This is a rare but critical customer. These are best customers loyal, frequent, and very high spenders\n",
        "\n",
        "\n",
        "**Cluster 2:**\n",
        "\n",
        "| Metric    | Min  | Mean     | Median | Max      | Center (Scaled) |\n",
        "| --------- | ---- | -------- | ------ | -------- | --------------- |\n",
        "| Recency   | 120  | 215.53   | 196.0  | 373.0    | 3.63            |\n",
        "| Frequency | 1    | 2.74     | 2.0    | 34.0     | 0.00            |\n",
        "| Monetary  | 3.75 | 1,032.45 | 609.4  | 44,534.3 | 0.00            |\n",
        "\n",
        "- **High Recency** → These customers haven't purchased for a long time  with recency values from **120** up to **373** days, and an average of **215** days. This suggests that they are likely churned or inactive.\n",
        "- **Low Frequency**→ They purchase very rarely, on average just **2-3** purchase (median 2 and max 34), which is extremely low.\n",
        "- **Low Monetary** → Their monetary values are low on average, around **1k**, but with a wide spread (**median 609** and **max over 44k**)\n",
        "\n",
        "→ Cluster 2: *Churned Low-Value Customers* - This cluster represents churned or near-churn customers who have low engagement and low spending.\n",
        "\n",
        "\n",
        "\n",
        "---\n",
        "\n",
        "\n",
        "**SUMMARY:**\n",
        "\n",
        "| Cluster | Label                      | Key Traits                                               |\n",
        "| ------- | -------------------------- | -------------------------------------------------------- |\n",
        "| 0       | Active Medium-Value Customers   | Regular, recent, moderate to high spending   |\n",
        "| 1       | Ultra VIP Customer        | Bought recently, frequently, and very high value    |\n",
        "| 2       | Churned Low-Value Customers    | \tLong inactive, rare purchases, low value          |\n",
        "\n",
        "\n",
        "---\n",
        "\n"
      ],
      "metadata": {
        "id": "OEpGosGFw_Io"
      }
    },
    {
      "cell_type": "code",
      "source": [],
      "metadata": {
        "id": "wlxekze33qjk"
      },
      "execution_count": null,
      "outputs": []
    },
    {
      "cell_type": "code",
      "source": [],
      "metadata": {
        "id": "6nxNorw03qlk"
      },
      "execution_count": null,
      "outputs": []
    },
    {
      "cell_type": "code",
      "source": [],
      "metadata": {
        "id": "1kqVXhfo3uZR"
      },
      "execution_count": null,
      "outputs": []
    },
    {
      "cell_type": "code",
      "source": [],
      "metadata": {
        "id": "b5PAlGht3ub3"
      },
      "execution_count": null,
      "outputs": []
    },
    {
      "cell_type": "code",
      "source": [],
      "metadata": {
        "id": "KlmXuy9t3uer"
      },
      "execution_count": null,
      "outputs": []
    },
    {
      "cell_type": "markdown",
      "source": [
        "# pie chart customer segmentation and associated sales by cluster.\n"
      ],
      "metadata": {
        "id": "_Y4_74dC07QD"
      }
    },
    {
      "cell_type": "code",
      "source": [
        "\n"
      ],
      "metadata": {
        "id": "mEpFEh0U3WII"
      },
      "execution_count": null,
      "outputs": []
    },
    {
      "cell_type": "code",
      "source": [
        "import matplotlib.pyplot as plt\n",
        "\n",
        "\n",
        "# Group by cluster prediction\n",
        "summary_df = final_pred.groupBy(\"cluster\").agg(\n",
        "    count(\"*\").alias(\"CustomerCount\"),\n",
        "    F.sum(\"Recency\").alias(\"days_since_last_purchase\"),\n",
        "    F.sum(\"Frequency\").alias(\"total_purchases\"),\n",
        "    F.sum(\"Monetary\").alias(\"total_sales\")\n",
        "\n",
        ")\n",
        "\n",
        "# Convert to Pandas for plotting\n",
        "summary_pd = summary_df.toPandas()\n",
        "\n",
        "# Extract labels and values\n",
        "labels = [f\"Cluster {i}\" for i in summary_pd[\"cluster\"]]\n",
        "customer_counts = summary_pd[\"CustomerCount\"]\n",
        "Recency = summary_pd[\"days_since_last_purchase\"]\n",
        "Frequency = summary_pd[\"total_purchases\"]\n",
        "sales = summary_pd[\"total_sales\"]\n",
        "\n",
        "# Create 2x2 grid of subplots\n",
        "fig, axs = plt.subplots(2, 2, figsize=(15, 10))\n",
        "axs = axs.flatten()  # Flatten the 2x2 array to a 1D array of 4 axes\n",
        "\n",
        "# Pie chart 1: Customer Segmentation\n",
        "axs[0].pie(customer_counts, labels=labels, autopct='%1.1f%%', startangle=140)\n",
        "axs[0].set_title(\"Customer Segmentation by Cluster\")\n",
        "\n",
        "# Pie chart 2: Sales Contribution\n",
        "axs[1].pie(sales, labels=labels, autopct='%1.1f%%', startangle=140)\n",
        "axs[1].set_title(\"Sales Contribution by Cluster\")\n",
        "\n",
        "# Pie chart 3: Recency by Cluster\n",
        "axs[2].pie(Recency, labels=labels, autopct='%1.1f%%', startangle=140)\n",
        "axs[2].set_title(\"Recency by Cluster\")\n",
        "\n",
        "# Pie chart 4: Frequency by Cluster\n",
        "axs[3].pie(Frequency, labels=labels, autopct='%1.1f%%', startangle=140)\n",
        "axs[3].set_title(\"Frequency by Cluster\")\n",
        "\n",
        "# Layout adjustment\n",
        "plt.tight_layout()\n",
        "plt.show()\n"
      ],
      "metadata": {
        "colab": {
          "base_uri": "https://localhost:8080/",
          "height": 1000
        },
        "id": "LrGgycEc5DQP",
        "outputId": "36ec56cb-2ec0-4519-957f-13cf87c7ca9b"
      },
      "execution_count": null,
      "outputs": [
        {
          "output_type": "display_data",
          "data": {
            "text/plain": [
              "<Figure size 1500x1000 with 4 Axes>"
            ],
            "image/png": "[encoded data removed]"
          },
          "metadata": {}
        }
      ]
    },
    {
      "cell_type": "code",
      "source": [],
      "metadata": {
        "id": "5zQ-rFIy5DNc"
      },
      "execution_count": null,
      "outputs": []
    },
    {
      "cell_type": "code",
      "source": [],
      "metadata": {
        "id": "0MyQTBMyziAI"
      },
      "execution_count": null,
      "outputs": []
    },
    {
      "cell_type": "markdown",
      "source": [
        "# Model Saving"
      ],
      "metadata": {
        "id": "QJIdkS1Z-ISN"
      }
    },
    {
      "cell_type": "code",
      "source": [
        "import os\n",
        "\n",
        "folder_path = \"./models\""
      ],
      "metadata": {
        "id": "7w8n0wX6yYsL"
      },
      "execution_count": null,
      "outputs": []
    },
    {
      "cell_type": "code",
      "source": [
        "model_path = \"./models/kmeans_model\"\n",
        "km_model.write().overwrite().save(model_path)"
      ],
      "metadata": {
        "id": "9ht4t8e5yYpd"
      },
      "execution_count": null,
      "outputs": []
    },
    {
      "cell_type": "code",
      "source": [],
      "metadata": {
        "id": "qoNb80sxyYmo"
      },
      "execution_count": null,
      "outputs": []
    },
    {
      "cell_type": "code",
      "source": [],
      "metadata": {
        "id": "uLF5djwKemvo"
      },
      "execution_count": null,
      "outputs": []
    },
    {
      "cell_type": "code",
      "source": [],
      "metadata": {
        "id": "ks0sBXamiXVj"
      },
      "execution_count": null,
      "outputs": []
    },
    {
      "cell_type": "code",
      "source": [],
      "metadata": {
        "id": "YBP6tZ2OiXYp"
      },
      "execution_count": null,
      "outputs": []
    },
    {
      "cell_type": "code",
      "source": [],
      "metadata": {
        "id": "MkVBtdZmiX8-"
      },
      "execution_count": null,
      "outputs": []
    },
    {
      "cell_type": "code",
      "source": [],
      "metadata": {
        "id": "Jt3BBPL4RJ_a"
      },
      "execution_count": null,
      "outputs": []
    },
    {
      "cell_type": "code",
      "source": [],
      "metadata": {
        "id": "60dYYeP1Sefp"
      },
      "execution_count": null,
      "outputs": []
    },
    {
      "cell_type": "code",
      "source": [],
      "metadata": {
        "id": "f8W2eWVQemyZ"
      },
      "execution_count": null,
      "outputs": []
    },
    {
      "cell_type": "code",
      "source": [],
      "metadata": {
        "id": "rHHSPGAaem1a"
      },
      "execution_count": null,
      "outputs": []
    },
    {
      "cell_type": "code",
      "source": [],
      "metadata": {
        "id": "rwDIfc0Vem4j"
      },
      "execution_count": null,
      "outputs": []
    },
    {
      "cell_type": "markdown",
      "source": [
        "\n",
        "\n",
        "---\n",
        "\n",
        "\n",
        "\n",
        "---\n",
        "\n",
        "\n",
        "\n",
        "---\n",
        "\n",
        "\n",
        "\n",
        "---\n",
        "\n",
        "\n",
        "\n",
        "---\n",
        "\n",
        "\n",
        "\n",
        "---\n",
        "\n"
      ],
      "metadata": {
        "id": "TIXth2Wleknz"
      }
    }
  ],
  "metadata": {
    "colab": {
      "provenance": []
    },
    "kernelspec": {
      "display_name": "Python 3",
      "name": "python3"
    },
    "language_info": {
      "name": "python"
    }
  },
  "nbformat": 4,
  "nbformat_minor": 0
}